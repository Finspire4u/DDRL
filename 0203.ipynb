{
 "cells": [
  {
   "cell_type": "code",
   "execution_count": 1,
   "id": "2b2c2c3a",
   "metadata": {},
   "outputs": [],
   "source": [
    "import os\n",
    "import numpy as np\n",
    "import pandas as pd\n",
    "import time\n",
    "import random\n",
    "from tqdm import tqdm\n",
    "from sklearn import preprocessing\n",
    "import math\n",
    "import matplotlib\n",
    "import matplotlib.pyplot as plt\n",
    "import csv"
   ]
  },
  {
   "cell_type": "code",
   "execution_count": 2,
   "id": "e37c4923",
   "metadata": {},
   "outputs": [],
   "source": [
    "grid_size = 100 # pixels, bigger than 0 and int\n",
    "total_num_nodes = 20 # bigger than 0 and int\n",
    "num_activate_nodes = 2 # must be even, int\n",
    "num_inactivate_nodes = total_num_nodes - num_activate_nodes\n",
    "nodes_generate_model = 'uniform' # uniform, gauss, random\n",
    "paired_nodes = np.array([[8,12],[2,18]])\n",
    "aware_range = 20\n",
    "ER_cone_coverage = 30 # degree\n",
    "ER_radius = 1\n",
    "ER_cone_length = 10\n",
    "ER_init_angle = 0 # degree "
   ]
  },
  {
   "cell_type": "code",
   "execution_count": 3,
   "id": "6c9e1151",
   "metadata": {},
   "outputs": [],
   "source": [
    "def all_nodes_position(nums, maxsize, model_flag):\n",
    "    if model_flag == 'random':\n",
    "        return np.random.randint(maxsize, size=(nums, 2))\n",
    "    if model_flag == 'uniform':\n",
    "        return (maxsize * (np.random.random_sample((nums, 2)))).astype(int)\n",
    "    if model_flag == 'gauss':\n",
    "        return np.random.normal(maxsize/2, maxsize/7, size=(nums, 2)).astype(int) # mu set to /7 to make sure all int bigger than 0\n",
    "    else:\n",
    "        return \"error: invalid nodes generate model!\""
   ]
  },
  {
   "cell_type": "code",
   "execution_count": 4,
   "id": "f0dc8de5",
   "metadata": {},
   "outputs": [],
   "source": [
    "# xlim, ylim, rank, status(Tx/Rx), upstream, downstream, destination\n",
    "def sort_nodes(nodes, nums):\n",
    "    rank = [*range(0, nums, 1)]\n",
    "    zero = [0] * nums\n",
    "    new_nodes = np.insert(nodes, 2, rank, axis=1)\n",
    "    new_nodes = np.insert(new_nodes, 3, zero, axis=1)\n",
    "    new_nodes = np.insert(new_nodes, 4, zero, axis=1)\n",
    "    new_nodes = np.insert(new_nodes, 4, zero, axis=1)\n",
    "    new_nodes = np.insert(new_nodes, 4, zero, axis=1)\n",
    "    return new_nodes"
   ]
  },
  {
   "cell_type": "code",
   "execution_count": 5,
   "id": "318ff58c",
   "metadata": {},
   "outputs": [],
   "source": [
    "def nodes_activate(node, order, status, up, down, des):\n",
    "    node[order][3] = status # initial Rx\n",
    "    node[order][4] = up\n",
    "    node[order][5] = down\n",
    "    node[order][6] = des\n",
    "    return node"
   ]
  },
  {
   "cell_type": "code",
   "execution_count": 6,
   "id": "3678b607",
   "metadata": {},
   "outputs": [],
   "source": [
    "def ER_area(radius, coverage, angle, length, position, rank, grid_map):\n",
    "    x = position[rank][0]\n",
    "    y = position[rank][1]\n",
    "    # radius generation\n",
    "    for a in range(x-radius,x+radius+1):\n",
    "        if a < 0 or a >= grid_map.shape[0]: continue\n",
    "        for b in range(y-radius,y+radius+1):\n",
    "            if b < 0 or b >= grid_map.shape[1]: continue\n",
    "            # See grip_map ocupied or not\n",
    "            if grid_map[a][b] != 1 and 5:\n",
    "                grid_map[a][b] = 3 # red for ER\n",
    "\n",
    "    # cone generation\n",
    "    for c in range(2,length+2):\n",
    "        height = c*math.tan(math.degrees(angle/2))\n",
    "        if height - 0.5 >= int(height):\n",
    "            \n",
    "    \n",
    "    return grid_map"
   ]
  },
  {
   "cell_type": "code",
   "execution_count": 7,
   "id": "827e3343",
   "metadata": {},
   "outputs": [],
   "source": [
    "def upstream_node_info(node, order):\n",
    "    return "
   ]
  },
  {
   "cell_type": "code",
   "execution_count": 8,
   "id": "2a19519b",
   "metadata": {},
   "outputs": [],
   "source": [
    "def downstream_node_info(node, order):\n",
    "    return "
   ]
  },
  {
   "cell_type": "code",
   "execution_count": 9,
   "id": "bbade844",
   "metadata": {},
   "outputs": [],
   "source": [
    "def draw_network(grid_map):\n",
    "    fig = plt.figure(figsize=(10, 10))\n",
    "    ax = fig.add_subplot(111)\n",
    "#     optional_background_color = ['whitesmoke','navajowhite','orange','orangered','darkred']\n",
    "    optional_background_color = ['whitesmoke','green','yellow','red','darkred','black']\n",
    "    total_color_number = len(optional_background_color)\n",
    "    for row_number in range(grid_map.shape[0]):\n",
    "        for col_number in range(grid_map.shape[1]):\n",
    "            back_ground_vlaue = grid_map[row_number][col_number]\n",
    "            use_color = optional_background_color[int(back_ground_vlaue)]\n",
    "            x_corner = row_number\n",
    "            y_corner = col_number\n",
    "            rect = matplotlib.patches.Rectangle((x_corner,y_corner), 1, 1, facecolor=use_color, edgecolor = 'black', linewidth = 0.1)\n",
    "            ax.add_patch(rect)\n",
    "    plt.xlim(0, grid_map.shape[0])\n",
    "    plt.ylim(0, grid_map.shape[1])\n",
    "    plt.show()"
   ]
  },
  {
   "cell_type": "code",
   "execution_count": 10,
   "id": "761f0f07",
   "metadata": {},
   "outputs": [
    {
     "data": {
      "image/png": "[encoded data removed]",
      "text/plain": [
       "<Figure size 720x720 with 1 Axes>"
      ]
     },
     "metadata": {
      "needs_background": "light"
     },
     "output_type": "display_data"
    },
    {
     "name": "stdout",
     "output_type": "stream",
     "text": [
      "x, y, rank, status, upstream, downstream, destination\n",
      "[[24 96  0  0  0  0  0]\n",
      " [38 37  1  0  0  0  0]\n",
      " [42 68  2  1 16 14 18]\n",
      " [56 71  3  0  0  0  0]\n",
      " [90 20  4  0  0  0  0]\n",
      " [48 15  5  0  0  0  0]\n",
      " [55 66  6  0  0  0  0]\n",
      " [62 54  7  0  0  0  0]\n",
      " [52  4  8  1 16 14 12]\n",
      " [26 48  9  0  0  0  0]\n",
      " [26 99 10  0  0  0  0]\n",
      " [86 57 11  0  0  0  0]\n",
      " [ 0  7 12  2 17  9  8]\n",
      " [26 47 13  0  0  0  0]\n",
      " [37 93 14  0  0  0  0]\n",
      " [47 54 15  0  0  0  0]\n",
      " [40 43 16  0  0  0  0]\n",
      " [41 60 17  0  0  0  0]\n",
      " [42 31 18  2 17  9  2]\n",
      " [74 82 19  0  0  0  0]]\n"
     ]
    }
   ],
   "source": [
    "# ENV INITIALIZATION\n",
    "grid_array = np.zeros([grid_size,grid_size])\n",
    "nodes_position = all_nodes_position(total_num_nodes, grid_size, nodes_generate_model)\n",
    "# sorted and ready nodes\n",
    "# [xlim, ylim, rank, status(Tx/Rx), upstream, downstream, destination]\n",
    "# status 0-inactivate 1-Tx 2-Rx\n",
    "nodes_position = sort_nodes(nodes_position, total_num_nodes)\n",
    "grid_array[nodes_position[:,0],nodes_position[:,1]] = 5 # black nodes\n",
    "# activate_nodes\n",
    "for [i,j] in paired_nodes:\n",
    "    nodes_position = nodes_activate(nodes_position, i, 1, 16, 14, j)\n",
    "    nodes_position = nodes_activate(nodes_position, j, 2, 17, 9, i)\n",
    "#     nodes_position = nodes_activate(nodes_position, i-1, 1, upstream_node_info(nodes_position, i-1), downstream_node_info(nodes_position, i-1), j)\n",
    "#     nodes_position = nodes_activate(nodes_position, j-1, 2, upstream_node_info(nodes_position, j-1), downstream_node_info(nodes_position, j-1), i)\n",
    "    x_position = [nodes_position[i, 0], nodes_position[j, 0]]\n",
    "    y_position = [nodes_position[i, 1], nodes_position[j, 1]]\n",
    "    grid_array[x_position[0],y_position[0]] = 1 # green activate\n",
    "    grid_array[x_position[1],y_position[1]] = 1\n",
    "    grid_array = ER_area(ER_radius, ER_cone_coverage, ER_init_angle, ER_cone_length, nodes_position, i, grid_array)\n",
    "    grid_array = ER_area(ER_radius, ER_cone_coverage, ER_init_angle, ER_cone_length, nodes_position, j, grid_array)\n",
    "\n",
    "# print(grid_array)\n",
    "draw_network(grid_array)\n",
    "print('x, y, rank, status, upstream, downstream, destination')\n",
    "print(nodes_position)\n",
    "\n"
   ]
  },
  {
   "cell_type": "code",
   "execution_count": null,
   "id": "70adc030",
   "metadata": {},
   "outputs": [],
   "source": []
  }
 ],
 "metadata": {
  "kernelspec": {
   "display_name": "Python 3 (ipykernel)",
   "language": "python",
   "name": "python3"
  },
  "language_info": {
   "codemirror_mode": {
    "name": "ipython",
    "version": 3
   },
   "file_extension": ".py",
   "mimetype": "text/x-python",
   "name": "python",
   "nbconvert_exporter": "python",
   "pygments_lexer": "ipython3",
   "version": "3.8.10"
  }
 },
 "nbformat": 4,
 "nbformat_minor": 5
}
