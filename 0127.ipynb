{
 "cells": [
  {
   "cell_type": "code",
   "execution_count": 1,
   "id": "2b2c2c3a",
   "metadata": {},
   "outputs": [],
   "source": [
    "import os\n",
    "import numpy as np\n",
    "import pandas as pd\n",
    "import time\n",
    "from tqdm import tqdm\n",
    "from sklearn import preprocessing\n",
    "import math\n",
    "import matplotlib\n",
    "import matplotlib.pyplot as plt\n",
    "import csv"
   ]
  },
  {
   "cell_type": "code",
   "execution_count": 9,
   "id": "e37c4923",
   "metadata": {},
   "outputs": [],
   "source": [
    "grid_size = 4000\n",
    "total_num_nodes = 10\n",
    "num_activate_nodes = 1\n",
    "num_inactivate_nodes = total_num_nodes - num_activate_nodes\n",
    "aware_range = 1\n",
    "ER_cone_angle = 30 #degree not radian\n",
    "ER_radius = 1\n",
    "ER_cone_length = 1"
   ]
  },
  {
   "cell_type": "code",
   "execution_count": 17,
   "id": "ec5d5812",
   "metadata": {},
   "outputs": [],
   "source": [
    "def grid_generation(size, act_p, ina_p):\n",
    "    grid_array = np.zeros([size,size])\n",
    "    return grid_array"
   ]
  },
  {
   "cell_type": "code",
   "execution_count": 3,
   "id": "6c9e1151",
   "metadata": {},
   "outputs": [],
   "source": [
    "def activate_nodes_position(nums):\n",
    "    act_position = []\n",
    "    for i in range(nums):\n",
    "        act_position.append(x,y)\n",
    "    return act_position"
   ]
  },
  {
   "cell_type": "code",
   "execution_count": 4,
   "id": "318ff58c",
   "metadata": {},
   "outputs": [],
   "source": [
    "def inactivate_nodes_position(nums):\n",
    "    return []"
   ]
  },
  {
   "cell_type": "code",
   "execution_count": 6,
   "id": "3678b607",
   "metadata": {},
   "outputs": [],
   "source": [
    "def ER_area(ER_cone_angle, ER_radius, ER_cone_length):\n",
    "    return"
   ]
  },
  {
   "cell_type": "code",
   "execution_count": 8,
   "id": "827e3343",
   "metadata": {},
   "outputs": [],
   "source": [
    "def upstream_node_info(node):\n",
    "    return "
   ]
  },
  {
   "cell_type": "code",
   "execution_count": 10,
   "id": "2a19519b",
   "metadata": {},
   "outputs": [],
   "source": [
    "def downstream_node_info(node):\n",
    "    return "
   ]
  },
  {
   "cell_type": "code",
   "execution_count": 20,
   "id": "761f0f07",
   "metadata": {},
   "outputs": [
    {
     "name": "stdout",
     "output_type": "stream",
     "text": [
      "(4000, 4000)\n"
     ]
    }
   ],
   "source": [
    "activate_nodes_position = activate_nodes_position(num_activate_nodes)\n",
    "inactivate_nodes_position = inactivate_nodes_position(num_inactivate_nodes)\n",
    "grid_array = grid_generation(grid_size, activate_nodes_position, inactivate_nodes_position)\n",
    "print(grid_array.shape)\n",
    "\n"
   ]
  }
 ],
 "metadata": {
  "kernelspec": {
   "display_name": "Python 3 (ipykernel)",
   "language": "python",
   "name": "python3"
  },
  "language_info": {
   "codemirror_mode": {
    "name": "ipython",
    "version": 3
   },
   "file_extension": ".py",
   "mimetype": "text/x-python",
   "name": "python",
   "nbconvert_exporter": "python",
   "pygments_lexer": "ipython3",
   "version": "3.8.10"
  }
 },
 "nbformat": 4,
 "nbformat_minor": 5
}
